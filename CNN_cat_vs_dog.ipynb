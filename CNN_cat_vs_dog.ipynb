{
  "nbformat": 4,
  "nbformat_minor": 0,
  "metadata": {
    "colab": {
      "name": "CNN cat-vs-dog.ipynb",
      "provenance": [],
      "collapsed_sections": [],
      "mount_file_id": "125dD57RvR_7341w9eGTbFEOa0kxsMotA",
      "authorship_tag": "ABX9TyOm5F3Ij13fV6xxmrI59AnL",
      "include_colab_link": true
    },
    "kernelspec": {
      "name": "python3",
      "display_name": "Python 3"
    }
  },
  "cells": [
    {
      "cell_type": "markdown",
      "metadata": {
        "id": "view-in-github",
        "colab_type": "text"
      },
      "source": [
        "<a href=\"https://colab.research.google.com/github/ArpitaChatterjee/CNN-Data-Augmentation/blob/main/CNN_cat_vs_dog.ipynb\" target=\"_parent\"><img src=\"https://colab.research.google.com/assets/colab-badge.svg\" alt=\"Open In Colab\"/></a>"
      ]
    },
    {
      "cell_type": "code",
      "metadata": {
        "id": "MwUjNiV9wUUJ"
      },
      "source": [
        "from google.colab import drive\n",
        "drive.mount('/content/drive')"
      ],
      "execution_count": null,
      "outputs": []
    },
    {
      "cell_type": "code",
      "metadata": {
        "id": "k-vrj_NFwY1m"
      },
      "source": [
        "#Data Augmentation using Python and keras\n",
        "from keras.preprocessing.image import ImageDataGenerator, array_to_img, img_to_array, load_img\n",
        "#load_img-- imp property as it loads the img we want and help to generate the date we need \n",
        "\n",
        "datagen= ImageDataGenerator(\n",
        "    rotation_range=40,#a value in degrees (0-180), a range within which to randomly rotate pictures\n",
        "    width_shift_range=0.2,#ranges (as a fraction of total width or height) \n",
        "    height_shift_range=0.2,#within which to randomly translate pictures vertically or horizontally\n",
        "    shear_range=0.2,#for randomly applying shearing transformations\n",
        "    zoom_range=0.2,#for randomly zooming inside pictures\n",
        "    horizontal_flip=True,#randomly flipping half of the images horizontally --relevant when there are \n",
        "                          #no assumptions of horizontal assymetry (e.g. real-world pictures)\n",
        "    fill_mode='nearest'# strategy used for filling in newly created pixels, which can appear \n",
        "                      #after a rotation or a width/height shift.\n",
        ")\n",
        "\n",
        "\n",
        "img= load_img('/content/drive/My Drive/Colab Notebooks/CNN CatVsDog/cat-vs-dog.jpg')#this is a PIL image\n",
        "x = img_to_array(img) #this is a Numpy array with shape(3,150, 150)\n",
        "x = x.reshape((1,)+ x.shape)#this is a Numpy array with shape(1,3,150,150)\n",
        "\n",
        "## the .flow() command below generates batches of randomly transformed images\n",
        "# and saves the results to the `preview/` directory\n",
        "i=0\n",
        "for batch in datagen.flow(x,batch_size=1, save_to_dir='/content/drive/My Drive/Colab Notebooks/CNN CatVsDog/preview', save_prefix='cat', save_format='jpg'):\n",
        "  i+=1\n",
        "  if i>20:\n",
        "    break #otherwise the generator would go loop imdefinately\n",
        "\n",
        "\n"
      ],
      "execution_count": 9,
      "outputs": []
    },
    {
      "cell_type": "markdown",
      "metadata": {
        "id": "217AqESX_8lX"
      },
      "source": [
        "Create CNN Module n Optimize it using Keras Tuner"
      ]
    },
    {
      "cell_type": "code",
      "metadata": {
        "id": "9M8PH9UX_78B"
      },
      "source": [
        ""
      ],
      "execution_count": null,
      "outputs": []
    }
  ]
}